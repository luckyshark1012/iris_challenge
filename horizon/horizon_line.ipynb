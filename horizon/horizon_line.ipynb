{
 "cells": [
  {
   "cell_type": "markdown",
   "metadata": {},
   "source": [
    "### Horizon Line Detection\n",
    "\n",
    "This notebook carries out horizon line detection using the Canny Edge Detection that comes with OpenCV.\n",
    "\n",
    "Sources:\n",
    "- [1] https://www.pyimagesearch.com/2015/04/06/zero-parameter-automatic-canny-edge-detection-with-python-and-opencv/\n",
    "- [2] https://stackoverflow.com/questions/44449871/fine-tuning-hough-line-function-parameters-opencv\n",
    "- [3] https://docs.opencv.org/3.0-beta/doc/py_tutorials/py_imgproc/py_houghlines/py_houghlines.html#hough-tranform-in-opencv"
   ]
  },
  {
   "cell_type": "code",
   "execution_count": null,
   "metadata": {},
   "outputs": [],
   "source": [
    "from pathlib import Path\n",
    "import cv2\n",
    "import numpy as np\n",
    "import math\n",
    "\n",
    "# Paths to images\n",
    "root_dir = Path.cwd()\n",
    "images_path = root_dir / '..' / 'test_images'\n",
    "output_path = root_dir / '..' / 'output_images'"
   ]
  },
  {
   "cell_type": "code",
   "execution_count": null,
   "metadata": {},
   "outputs": [],
   "source": [
    "def custom_canny(img, sigma=0.33):\n",
    "    # compute the median of the single channel pixel intensities\n",
    "    v = np.median(image)\n",
    "    # apply automatic Canny edge detection using the computed median\n",
    "    lower = int(max(0, (1.0 - sigma) * v))\n",
    "    upper = int(min(255, (1.0 + sigma) * v))\n",
    "    edged = cv2.Canny(img, lower, upper)\n",
    "    return edged\n",
    "\n",
    "\n",
    "def plot_line(img, rho, theta):\n",
    "    # Plots the line coming out of a Hough Line Transform\n",
    "    a = math.cos(theta)\n",
    "    b = math.sin(theta)\n",
    "    x0 = a * rho\n",
    "    y0 = b * rho\n",
    "    pt1 = (int(x0 + 10000 * (-b)), int(y0 + 10000 * (a)))\n",
    "    pt2 = (int(x0 - 10000 * (-b)), int(y0 - 10000 * (a)))\n",
    "    cv2.line(img, pt1, pt2, (255, 0, 0), 3)"
   ]
  },
  {
   "cell_type": "code",
   "execution_count": null,
   "metadata": {},
   "outputs": [],
   "source": [
    "for image_path in list(images_path.glob('*.png')):\n",
    "    image = cv2.imread(str(image_path))\n",
    "    # Blur image and convert to grayscale\n",
    "    gray = cv2.cvtColor(image, cv2.COLOR_BGR2GRAY)\n",
    "    blurred = cv2.GaussianBlur(gray, (3, 3), 0)\n",
    "    # Use Canny edge detection to find edges\n",
    "    edges = custom_canny(blurred)\n",
    "    # Dilate edges of lines\n",
    "    dilated = cv2.dilate(edges, np.ones((3, 3), dtype=np.uint8))\n",
    "    # Use Hough Line Transform to get lines\n",
    "    lines = cv2.HoughLines(dilated, 1, np.pi / 100,\n",
    "                           threshold = 400,\n",
    "                           min_theta=np.pi / 3,\n",
    "                           max_theta=2 * np.pi / 3)\n",
    "    if lines is not None:\n",
    "        print('Found %s lines' % (len(lines)))\n",
    "        # # Print all lines\n",
    "        # for line in lines:\n",
    "        #     for rho, theta in line:\n",
    "        #         plot_line(edges, rho, theta)\n",
    "        # Average line only\n",
    "        avg_rho = np.mean([line[0][0] for line in lines])\n",
    "        avg_theta = np.mean([line[0][1] for line in lines])\n",
    "        plot_line(image, avg_rho, avg_theta)\n",
    "    else:\n",
    "        print('No Horizon Found')\n",
    "\n",
    "    # Output images to window\n",
    "    # cv2.imshow(\"Original\", image)\n",
    "    # cv2.imshow(\"Edges\", edges)\n",
    "    # cv2.waitKey(0)\n",
    "    \n",
    "    # Save images to file\n",
    "    cv2.imwrite(str(output_path / image_path.name), image)"
   ]
  }
 ],
 "metadata": {
  "kernelspec": {
   "display_name": "Python [conda env:vectorize]",
   "language": "python",
   "name": "conda-env-vectorize-py"
  },
  "language_info": {
   "codemirror_mode": {
    "name": "ipython",
    "version": 3
   },
   "file_extension": ".py",
   "mimetype": "text/x-python",
   "name": "python",
   "nbconvert_exporter": "python",
   "pygments_lexer": "ipython3",
   "version": "3.5.4"
  }
 },
 "nbformat": 4,
 "nbformat_minor": 2
}

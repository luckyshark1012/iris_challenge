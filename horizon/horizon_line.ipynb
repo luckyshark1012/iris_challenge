{
 "cells": [
  {
   "cell_type": "markdown",
   "metadata": {},
   "source": [
    "### Horizon Line Detection\n",
    "\n",
    "This notebook carries out horizon line detection using the Canny Edge Detection that comes with OpenCV.\n",
    "\n",
    "Sources:\n",
    "- [1] https://www.pyimagesearch.com/2015/04/06/zero-parameter-automatic-canny-edge-detection-with-python-and-opencv/"
   ]
  },
  {
   "cell_type": "code",
   "execution_count": 26,
   "metadata": {
    "ExecuteTime": {
     "end_time": "2018-02-06T07:31:32.375962Z",
     "start_time": "2018-02-06T07:31:32.360063Z"
    }
   },
   "outputs": [],
   "source": [
    "import sys\n",
    "from pathlib import Path\n",
    "import cv2\n",
    "import numpy as np\n",
    "import math\n",
    "\n",
    "# Define paths to sub-folders\n",
    "root_dir = Path.cwd()\n",
    "images_path = root_dir / '..' / 'test_images'"
   ]
  },
  {
   "cell_type": "code",
   "execution_count": 50,
   "metadata": {
    "ExecuteTime": {
     "end_time": "2018-02-06T07:50:23.425920Z",
     "start_time": "2018-02-06T07:50:23.403191Z"
    }
   },
   "outputs": [],
   "source": [
    "def canny(image, sigma=0.33):\n",
    "    # compute the median of the single channel pixel intensities\n",
    "    v = np.median(image)\n",
    "    # apply automatic Canny edge detection using the computed median\n",
    "    lower = 225 #int(max(0, (1.0 - sigma) * v))\n",
    "    upper = 250 #int(min(255, (1.0 + sigma) * v))\n",
    "    edged = cv2.Canny(image, lower, upper)\n",
    "    # return the edged image\n",
    "    return edged\n",
    "\n",
    "def plot_line(img, rho, theta):\n",
    "    # Plots the line coming out of a Hough Line Transform\n",
    "    a = math.cos(theta)\n",
    "    b = math.sin(theta)\n",
    "    x0 = a * rho\n",
    "    y0 = b * rho\n",
    "    pt1 = (int(x0 + 1000*(-b)), int(y0 + 1000*(a)))\n",
    "    pt2 = (int(x0 - 1000*(-b)), int(y0 - 1000*(a)))\n",
    "    cv2.line(img, pt1, pt2, (255,0,0), 5, cv2.LINE_AA)"
   ]
  },
  {
   "cell_type": "code",
   "execution_count": 51,
   "metadata": {
    "ExecuteTime": {
     "end_time": "2018-02-06T07:51:36.248645Z",
     "start_time": "2018-02-06T07:51:17.716649Z"
    }
   },
   "outputs": [
    {
     "name": "stdout",
     "output_type": "stream",
     "text": [
      "No Horizon Found\n",
      "Found 441 lines\n",
      "Found 110 lines\n",
      "No Horizon Found\n",
      "Found 367 lines\n",
      "No Horizon Found\n",
      "Found 318 lines\n",
      "Found 332 lines\n",
      "Found 227 lines\n",
      "Found 38 lines\n",
      "No Horizon Found\n",
      "Found 1 lines\n",
      "Found 284 lines\n",
      "Found 274 lines\n",
      "Found 134 lines\n",
      "Found 103 lines\n",
      "Found 17 lines\n",
      "Found 1 lines\n",
      "Found 34 lines\n",
      "Found 314 lines\n",
      "Found 376 lines\n",
      "Found 381 lines\n",
      "Found 30 lines\n",
      "Found 1 lines\n",
      "Found 42 lines\n",
      "Found 316 lines\n",
      "Found 75 lines\n",
      "Found 32 lines\n",
      "Found 118 lines\n",
      "Found 294 lines\n",
      "Found 115 lines\n"
     ]
    }
   ],
   "source": [
    "for image_path in list(images_path.glob('*.png')):\n",
    "    image = cv2.imread(str(image_path))\n",
    "    # Blur image and convert to grayscale\n",
    "    gray = cv2.cvtColor(image, cv2.COLOR_BGR2GRAY)\n",
    "    blurred = cv2.GaussianBlur(gray, (6, 6), 0)\n",
    "    # Use Canny edge detection to find edges\n",
    "    edges = auto_canny(blurred)\n",
    "    # Use Hough Line Transform to get lines\n",
    "    threshold = 1200\n",
    "    lines = cv2.HoughLines(edges, 30, np.pi / 90, threshold, None, 0, 0)\n",
    "    if lines is not None:\n",
    "        print('Found %s lines' % (len(lines)))\n",
    "#         # Print all lines\n",
    "#         for line in lines:\n",
    "#             for rho,theta in line:\n",
    "#                 plot_line(edges, rho, theta)\n",
    "        # Average line\n",
    "        avg_rho = np.mean([line[0][0] for line in lines])\n",
    "        avg_theta = np.mean([line[0][1] for line in lines])\n",
    "        plot_line(edges, avg_rho, avg_theta)\n",
    "    else:\n",
    "        print('No Horizon Found')\n",
    "\n",
    "#     cv2.imshow(\"Original\", image)\n",
    "    cv2.imshow(\"Edges\", edges)\n",
    "    cv2.waitKey(0)"
   ]
  },
  {
   "cell_type": "code",
   "execution_count": null,
   "metadata": {},
   "outputs": [],
   "source": []
  }
 ],
 "metadata": {
  "kernelspec": {
   "display_name": "Python [conda env:vectorize]",
   "language": "python",
   "name": "conda-env-vectorize-py"
  },
  "language_info": {
   "codemirror_mode": {
    "name": "ipython",
    "version": 3
   },
   "file_extension": ".py",
   "mimetype": "text/x-python",
   "name": "python",
   "nbconvert_exporter": "python",
   "pygments_lexer": "ipython3",
   "version": "3.5.4"
  }
 },
 "nbformat": 4,
 "nbformat_minor": 2
}

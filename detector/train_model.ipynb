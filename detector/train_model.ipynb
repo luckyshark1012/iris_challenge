{
 "cells": [
  {
   "cell_type": "markdown",
   "metadata": {},
   "source": [
    "### Object Detector: Train the model\n",
    "\n",
    "This notebook contains instructions on how to train the model locally.\n",
    "\n",
    "Sources:\n",
    "- [1] https://github.com/tensorflow/models/blob/master/research/object_detection/g3doc/running_locally.md"
   ]
  },
  {
   "cell_type": "markdown",
   "metadata": {},
   "source": [
    "Make sure to add the `IRIS_DIR` variable to your session. It should be the location of the iris_challenge repo. Then add the remainder of the path variables. For my local computer these paths are as follows:\n",
    "\n",
    "`IRIS_DIR=/home/ook/repos/iris_challenge`\n",
    "`PATH_TO_YOUR_PIPELINE_CONFIG=${IRIS_DIR}/detector/models/ssd_mobilenet_v1.config`\n",
    "`PATH_TO_TRAIN_DIR=${IRIS_DIR}/detector/models/model/train`\n",
    "`PATH_TO_EVAL_DIR=${IRIS_DIR}/detector/models/model/eval`\n",
    "\n",
    "Then run the following commands from the `tensorflow/models/research/` directory to train and test.\n",
    "\n",
    "*Train*\n",
    "\n",
    "```\n",
    "python object_detection/train.py \\\n",
    "    --logtostderr \\\n",
    "    --pipeline_config_path=${PATH_TO_YOUR_PIPELINE_CONFIG} \\\n",
    "    --train_dir=${PATH_TO_TRAIN_DIR}\n",
    "```\n",
    "\n",
    "*Test*\n",
    "\n",
    "```\n",
    "python object_detection/eval.py \\\n",
    "    --logtostderr \\\n",
    "    --pipeline_config_path=${PATH_TO_YOUR_PIPELINE_CONFIG} \\\n",
    "    --checkpoint_dir=${PATH_TO_TRAIN_DIR} \\\n",
    "    --eval_dir=${PATH_TO_EVAL_DIR}\n",
    "```"
   ]
  },
  {
   "cell_type": "code",
   "execution_count": null,
   "metadata": {},
   "outputs": [],
   "source": []
  }
 ],
 "metadata": {
  "kernelspec": {
   "display_name": "Python [conda env:vectorize]",
   "language": "python",
   "name": "conda-env-vectorize-py"
  },
  "language_info": {
   "codemirror_mode": {
    "name": "ipython",
    "version": 3
   },
   "file_extension": ".py",
   "mimetype": "text/x-python",
   "name": "python",
   "nbconvert_exporter": "python",
   "pygments_lexer": "ipython3",
   "version": "3.5.4"
  }
 },
 "nbformat": 4,
 "nbformat_minor": 2
}
